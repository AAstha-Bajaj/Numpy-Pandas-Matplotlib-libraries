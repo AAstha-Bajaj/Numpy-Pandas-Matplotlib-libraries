{
 "cells": [
  {
   "cell_type": "code",
   "execution_count": 1,
   "id": "a6b1961d-e6b0-4f43-a1ab-07a0c4188371",
   "metadata": {},
   "outputs": [],
   "source": [
    "import numpy as np\n"
   ]
  },
  {
   "cell_type": "code",
   "execution_count": 2,
   "id": "f216e6b7-4e13-409d-a50a-23d3a5b4efe1",
   "metadata": {},
   "outputs": [],
   "source": [
    "myarr = np.array([3,46,5,44], np.int8)"
   ]
  },
  {
   "cell_type": "code",
   "execution_count": 3,
   "id": "a05a93e6-dc91-45b8-8e37-946212568b3a",
   "metadata": {},
   "outputs": [
    {
     "data": {
      "text/plain": [
       "array([ 3, 46,  5, 44], dtype=int8)"
      ]
     },
     "execution_count": 3,
     "metadata": {},
     "output_type": "execute_result"
    }
   ],
   "source": [
    "myarr"
   ]
  },
  {
   "cell_type": "code",
   "execution_count": 4,
   "id": "1dbd3f05-0264-49ab-a736-32503f382c58",
   "metadata": {},
   "outputs": [],
   "source": [
    "myarr = np.array([[3,45,76,7]], np.int32)  #its a 2d array now but only sinle brackets then 1d array an will eventually return the value at the index position"
   ]
  },
  {
   "cell_type": "code",
   "execution_count": 5,
   "id": "05411ead-2e60-4be6-a0ba-8941e298706f",
   "metadata": {},
   "outputs": [
    {
     "data": {
      "text/plain": [
       "np.int32(45)"
      ]
     },
     "execution_count": 5,
     "metadata": {},
     "output_type": "execute_result"
    }
   ],
   "source": [
    "myarr[0,1]"
   ]
  },
  {
   "cell_type": "code",
   "execution_count": 6,
   "id": "e35de449-7b78-4b7c-adce-7160f37af2d5",
   "metadata": {},
   "outputs": [],
   "source": [
    "myarr[0,1] = 32"
   ]
  },
  {
   "cell_type": "code",
   "execution_count": 7,
   "id": "ed407f45-0b87-4af4-8a7d-1d386da5bc8f",
   "metadata": {},
   "outputs": [
    {
     "data": {
      "text/plain": [
       "array([[ 3, 32, 76,  7]], dtype=int32)"
      ]
     },
     "execution_count": 7,
     "metadata": {},
     "output_type": "execute_result"
    }
   ],
   "source": [
    "myarr"
   ]
  },
  {
   "cell_type": "markdown",
   "id": "7f8271b8-cd95-4e71-a919-b89e4d0c1008",
   "metadata": {},
   "source": [
    "# Array craetion: Conversion from python structures"
   ]
  },
  {
   "cell_type": "code",
   "execution_count": 8,
   "id": "d0d794dc-a850-48a7-9d14-1500dcff3650",
   "metadata": {},
   "outputs": [],
   "source": [
    "listarray = np.array([[1,2,3],[4,5,6],[7,8,9]])"
   ]
  },
  {
   "cell_type": "code",
   "execution_count": 9,
   "id": "e1346f77-7334-4ac2-9476-03e5e60aeda8",
   "metadata": {},
   "outputs": [
    {
     "data": {
      "text/plain": [
       "array([[1, 2, 3],\n",
       "       [4, 5, 6],\n",
       "       [7, 8, 9]])"
      ]
     },
     "execution_count": 9,
     "metadata": {},
     "output_type": "execute_result"
    }
   ],
   "source": [
    "listarray"
   ]
  },
  {
   "cell_type": "code",
   "execution_count": 10,
   "id": "116d09b6-b099-4e97-9fae-c610cdf02b27",
   "metadata": {},
   "outputs": [
    {
     "data": {
      "text/plain": [
       "dtype('int64')"
      ]
     },
     "execution_count": 10,
     "metadata": {},
     "output_type": "execute_result"
    }
   ],
   "source": [
    "listarray.dtype"
   ]
  },
  {
   "cell_type": "code",
   "execution_count": 11,
   "id": "c64a1fff-262f-4524-94fa-0968ba873341",
   "metadata": {},
   "outputs": [
    {
     "data": {
      "text/plain": [
       "(3, 3)"
      ]
     },
     "execution_count": 11,
     "metadata": {},
     "output_type": "execute_result"
    }
   ],
   "source": [
    "listarray.shape"
   ]
  },
  {
   "cell_type": "code",
   "execution_count": 12,
   "id": "713bccf7-507f-46e7-b95e-51c0c94292a2",
   "metadata": {},
   "outputs": [
    {
     "data": {
      "text/plain": [
       "9"
      ]
     },
     "execution_count": 12,
     "metadata": {},
     "output_type": "execute_result"
    }
   ],
   "source": [
    "listarray.size"
   ]
  },
  {
   "cell_type": "code",
   "execution_count": 13,
   "id": "cbbab281-d5dd-4d1d-a8e7-640b6ad5be8c",
   "metadata": {},
   "outputs": [
    {
     "data": {
      "text/plain": [
       "array({73, 65, 85}, dtype=object)"
      ]
     },
     "execution_count": 13,
     "metadata": {},
     "output_type": "execute_result"
    }
   ],
   "source": [
    "np.array({73,65,85})"
   ]
  },
  {
   "cell_type": "markdown",
   "id": "6738be8e-d4e8-491c-a04a-12dcdf86dc66",
   "metadata": {},
   "source": [
    "**Intrinsic numpy array creation**"
   ]
  },
  {
   "cell_type": "code",
   "execution_count": 16,
   "id": "218e6bd6-1fa5-4914-a479-f37fbcf3c2d0",
   "metadata": {},
   "outputs": [],
   "source": [
    "zeros = np.zeros((2,4))"
   ]
  },
  {
   "cell_type": "code",
   "execution_count": 17,
   "id": "b413c74b-f4d1-4d53-95ee-a7bc67c8ba0a",
   "metadata": {},
   "outputs": [
    {
     "data": {
      "text/plain": [
       "array([[0., 0., 0., 0.],\n",
       "       [0., 0., 0., 0.]])"
      ]
     },
     "execution_count": 17,
     "metadata": {},
     "output_type": "execute_result"
    }
   ],
   "source": [
    "zeros"
   ]
  },
  {
   "cell_type": "code",
   "execution_count": 81,
   "id": "99502566-e997-418d-a02a-6f8dc6428262",
   "metadata": {},
   "outputs": [
    {
     "data": {
      "text/plain": [
       "array([[0.50105958, 0.54857761, 0.31175628, 0.41269459, 0.65441839],\n",
       "       [0.01387051, 0.44839825, 0.58922701, 0.87151099, 0.8516255 ],\n",
       "       [0.79705692, 0.29363135, 0.10970569, 0.09045189, 0.8485186 ]])"
      ]
     },
     "execution_count": 81,
     "metadata": {},
     "output_type": "execute_result"
    }
   ],
   "source": [
    "np.random.random((3,5))"
   ]
  },
  {
   "cell_type": "code",
   "execution_count": 18,
   "id": "35f8a533-8286-422f-a2b5-0171ad0d37ef",
   "metadata": {},
   "outputs": [],
   "source": [
    "rng = np.arange(15)"
   ]
  },
  {
   "cell_type": "code",
   "execution_count": 20,
   "id": "b1a07f2d-203c-4fcf-8e07-b49320780c6a",
   "metadata": {},
   "outputs": [
    {
     "data": {
      "text/plain": [
       "array([ 0,  1,  2,  3,  4,  5,  6,  7,  8,  9, 10, 11, 12, 13, 14])"
      ]
     },
     "execution_count": 20,
     "metadata": {},
     "output_type": "execute_result"
    }
   ],
   "source": [
    "rng"
   ]
  },
  {
   "cell_type": "code",
   "execution_count": 21,
   "id": "11ab1bff-9110-4b0a-9d4f-29034907d93f",
   "metadata": {},
   "outputs": [],
   "source": [
    "lnspc = np.linspace(1,50,10)"
   ]
  },
  {
   "cell_type": "code",
   "execution_count": 22,
   "id": "696e7e5b-a323-407b-b50d-66352f09aef9",
   "metadata": {},
   "outputs": [
    {
     "data": {
      "text/plain": [
       "array([ 1.        ,  6.44444444, 11.88888889, 17.33333333, 22.77777778,\n",
       "       28.22222222, 33.66666667, 39.11111111, 44.55555556, 50.        ])"
      ]
     },
     "execution_count": 22,
     "metadata": {},
     "output_type": "execute_result"
    }
   ],
   "source": [
    "lnspc"
   ]
  },
  {
   "cell_type": "code",
   "execution_count": 23,
   "id": "76d7377a-c66b-4a41-9a68-cd507c811cdf",
   "metadata": {},
   "outputs": [],
   "source": [
    "emp = np.empty((4,6))"
   ]
  },
  {
   "cell_type": "code",
   "execution_count": 24,
   "id": "5ec865fe-638a-4913-bdc2-5343fc58c06d",
   "metadata": {},
   "outputs": [
    {
     "data": {
      "text/plain": [
       "array([[6.23042070e-307, 4.67296746e-307, 1.69121096e-306,\n",
       "        1.24610994e-306, 1.42413555e-306, 1.78019082e-306],\n",
       "       [1.37959740e-306, 6.23057349e-307, 1.02360935e-306,\n",
       "        1.69120416e-306, 1.78022342e-306, 6.23058028e-307],\n",
       "       [1.06811422e-306, 9.45699680e-308, 1.11258854e-306,\n",
       "        1.11261502e-306, 1.42410839e-306, 7.56597770e-307],\n",
       "       [6.23059726e-307, 1.42419530e-306, 6.89805151e-307,\n",
       "        1.78020169e-306, 1.42410974e-306, 8.34451927e-308]])"
      ]
     },
     "execution_count": 24,
     "metadata": {},
     "output_type": "execute_result"
    }
   ],
   "source": [
    "emp"
   ]
  },
  {
   "cell_type": "code",
   "execution_count": 26,
   "id": "a7a47588-1fe8-42c7-a9e7-06af1d85dece",
   "metadata": {},
   "outputs": [],
   "source": [
    "empLike = np.empty_like(lnspc)"
   ]
  },
  {
   "cell_type": "code",
   "execution_count": 27,
   "id": "4b3a2cb3-3c91-40c0-866e-d42e74705a4d",
   "metadata": {},
   "outputs": [
    {
     "data": {
      "text/plain": [
       "array([ 1.        ,  6.44444444, 11.88888889, 17.33333333, 22.77777778,\n",
       "       28.22222222, 33.66666667, 39.11111111, 44.55555556, 50.        ])"
      ]
     },
     "execution_count": 27,
     "metadata": {},
     "output_type": "execute_result"
    }
   ],
   "source": [
    "empLike"
   ]
  },
  {
   "cell_type": "code",
   "execution_count": 28,
   "id": "e7732e5c-cc9f-44e8-8af3-f24f84195409",
   "metadata": {},
   "outputs": [],
   "source": [
    "id = np.identity(28)"
   ]
  },
  {
   "cell_type": "code",
   "execution_count": 29,
   "id": "35e5e96b-8a7e-4b10-a835-a781f2ffdab2",
   "metadata": {},
   "outputs": [
    {
     "data": {
      "text/plain": [
       "array([[1., 0., 0., 0., 0., 0., 0., 0., 0., 0., 0., 0., 0., 0., 0., 0.,\n",
       "        0., 0., 0., 0., 0., 0., 0., 0., 0., 0., 0., 0.],\n",
       "       [0., 1., 0., 0., 0., 0., 0., 0., 0., 0., 0., 0., 0., 0., 0., 0.,\n",
       "        0., 0., 0., 0., 0., 0., 0., 0., 0., 0., 0., 0.],\n",
       "       [0., 0., 1., 0., 0., 0., 0., 0., 0., 0., 0., 0., 0., 0., 0., 0.,\n",
       "        0., 0., 0., 0., 0., 0., 0., 0., 0., 0., 0., 0.],\n",
       "       [0., 0., 0., 1., 0., 0., 0., 0., 0., 0., 0., 0., 0., 0., 0., 0.,\n",
       "        0., 0., 0., 0., 0., 0., 0., 0., 0., 0., 0., 0.],\n",
       "       [0., 0., 0., 0., 1., 0., 0., 0., 0., 0., 0., 0., 0., 0., 0., 0.,\n",
       "        0., 0., 0., 0., 0., 0., 0., 0., 0., 0., 0., 0.],\n",
       "       [0., 0., 0., 0., 0., 1., 0., 0., 0., 0., 0., 0., 0., 0., 0., 0.,\n",
       "        0., 0., 0., 0., 0., 0., 0., 0., 0., 0., 0., 0.],\n",
       "       [0., 0., 0., 0., 0., 0., 1., 0., 0., 0., 0., 0., 0., 0., 0., 0.,\n",
       "        0., 0., 0., 0., 0., 0., 0., 0., 0., 0., 0., 0.],\n",
       "       [0., 0., 0., 0., 0., 0., 0., 1., 0., 0., 0., 0., 0., 0., 0., 0.,\n",
       "        0., 0., 0., 0., 0., 0., 0., 0., 0., 0., 0., 0.],\n",
       "       [0., 0., 0., 0., 0., 0., 0., 0., 1., 0., 0., 0., 0., 0., 0., 0.,\n",
       "        0., 0., 0., 0., 0., 0., 0., 0., 0., 0., 0., 0.],\n",
       "       [0., 0., 0., 0., 0., 0., 0., 0., 0., 1., 0., 0., 0., 0., 0., 0.,\n",
       "        0., 0., 0., 0., 0., 0., 0., 0., 0., 0., 0., 0.],\n",
       "       [0., 0., 0., 0., 0., 0., 0., 0., 0., 0., 1., 0., 0., 0., 0., 0.,\n",
       "        0., 0., 0., 0., 0., 0., 0., 0., 0., 0., 0., 0.],\n",
       "       [0., 0., 0., 0., 0., 0., 0., 0., 0., 0., 0., 1., 0., 0., 0., 0.,\n",
       "        0., 0., 0., 0., 0., 0., 0., 0., 0., 0., 0., 0.],\n",
       "       [0., 0., 0., 0., 0., 0., 0., 0., 0., 0., 0., 0., 1., 0., 0., 0.,\n",
       "        0., 0., 0., 0., 0., 0., 0., 0., 0., 0., 0., 0.],\n",
       "       [0., 0., 0., 0., 0., 0., 0., 0., 0., 0., 0., 0., 0., 1., 0., 0.,\n",
       "        0., 0., 0., 0., 0., 0., 0., 0., 0., 0., 0., 0.],\n",
       "       [0., 0., 0., 0., 0., 0., 0., 0., 0., 0., 0., 0., 0., 0., 1., 0.,\n",
       "        0., 0., 0., 0., 0., 0., 0., 0., 0., 0., 0., 0.],\n",
       "       [0., 0., 0., 0., 0., 0., 0., 0., 0., 0., 0., 0., 0., 0., 0., 1.,\n",
       "        0., 0., 0., 0., 0., 0., 0., 0., 0., 0., 0., 0.],\n",
       "       [0., 0., 0., 0., 0., 0., 0., 0., 0., 0., 0., 0., 0., 0., 0., 0.,\n",
       "        1., 0., 0., 0., 0., 0., 0., 0., 0., 0., 0., 0.],\n",
       "       [0., 0., 0., 0., 0., 0., 0., 0., 0., 0., 0., 0., 0., 0., 0., 0.,\n",
       "        0., 1., 0., 0., 0., 0., 0., 0., 0., 0., 0., 0.],\n",
       "       [0., 0., 0., 0., 0., 0., 0., 0., 0., 0., 0., 0., 0., 0., 0., 0.,\n",
       "        0., 0., 1., 0., 0., 0., 0., 0., 0., 0., 0., 0.],\n",
       "       [0., 0., 0., 0., 0., 0., 0., 0., 0., 0., 0., 0., 0., 0., 0., 0.,\n",
       "        0., 0., 0., 1., 0., 0., 0., 0., 0., 0., 0., 0.],\n",
       "       [0., 0., 0., 0., 0., 0., 0., 0., 0., 0., 0., 0., 0., 0., 0., 0.,\n",
       "        0., 0., 0., 0., 1., 0., 0., 0., 0., 0., 0., 0.],\n",
       "       [0., 0., 0., 0., 0., 0., 0., 0., 0., 0., 0., 0., 0., 0., 0., 0.,\n",
       "        0., 0., 0., 0., 0., 1., 0., 0., 0., 0., 0., 0.],\n",
       "       [0., 0., 0., 0., 0., 0., 0., 0., 0., 0., 0., 0., 0., 0., 0., 0.,\n",
       "        0., 0., 0., 0., 0., 0., 1., 0., 0., 0., 0., 0.],\n",
       "       [0., 0., 0., 0., 0., 0., 0., 0., 0., 0., 0., 0., 0., 0., 0., 0.,\n",
       "        0., 0., 0., 0., 0., 0., 0., 1., 0., 0., 0., 0.],\n",
       "       [0., 0., 0., 0., 0., 0., 0., 0., 0., 0., 0., 0., 0., 0., 0., 0.,\n",
       "        0., 0., 0., 0., 0., 0., 0., 0., 1., 0., 0., 0.],\n",
       "       [0., 0., 0., 0., 0., 0., 0., 0., 0., 0., 0., 0., 0., 0., 0., 0.,\n",
       "        0., 0., 0., 0., 0., 0., 0., 0., 0., 1., 0., 0.],\n",
       "       [0., 0., 0., 0., 0., 0., 0., 0., 0., 0., 0., 0., 0., 0., 0., 0.,\n",
       "        0., 0., 0., 0., 0., 0., 0., 0., 0., 0., 1., 0.],\n",
       "       [0., 0., 0., 0., 0., 0., 0., 0., 0., 0., 0., 0., 0., 0., 0., 0.,\n",
       "        0., 0., 0., 0., 0., 0., 0., 0., 0., 0., 0., 1.]])"
      ]
     },
     "execution_count": 29,
     "metadata": {},
     "output_type": "execute_result"
    }
   ],
   "source": [
    "id"
   ]
  },
  {
   "cell_type": "code",
   "execution_count": 30,
   "id": "4558a37c-6c4d-4bec-b934-7e554d459860",
   "metadata": {},
   "outputs": [
    {
     "data": {
      "text/plain": [
       "(28, 28)"
      ]
     },
     "execution_count": 30,
     "metadata": {},
     "output_type": "execute_result"
    }
   ],
   "source": [
    "id.shape"
   ]
  },
  {
   "cell_type": "code",
   "execution_count": 31,
   "id": "e722436a-f5b4-4549-ac07-75d079ec6a4c",
   "metadata": {},
   "outputs": [],
   "source": [
    "arr = np.arange(99)"
   ]
  },
  {
   "cell_type": "code",
   "execution_count": 32,
   "id": "49f04542-9455-42ac-a2fd-bf8d59f68655",
   "metadata": {},
   "outputs": [
    {
     "data": {
      "text/plain": [
       "array([ 0,  1,  2,  3,  4,  5,  6,  7,  8,  9, 10, 11, 12, 13, 14, 15, 16,\n",
       "       17, 18, 19, 20, 21, 22, 23, 24, 25, 26, 27, 28, 29, 30, 31, 32, 33,\n",
       "       34, 35, 36, 37, 38, 39, 40, 41, 42, 43, 44, 45, 46, 47, 48, 49, 50,\n",
       "       51, 52, 53, 54, 55, 56, 57, 58, 59, 60, 61, 62, 63, 64, 65, 66, 67,\n",
       "       68, 69, 70, 71, 72, 73, 74, 75, 76, 77, 78, 79, 80, 81, 82, 83, 84,\n",
       "       85, 86, 87, 88, 89, 90, 91, 92, 93, 94, 95, 96, 97, 98])"
      ]
     },
     "execution_count": 32,
     "metadata": {},
     "output_type": "execute_result"
    }
   ],
   "source": [
    "arr"
   ]
  },
  {
   "cell_type": "code",
   "execution_count": 33,
   "id": "6f860da9-ffaf-4669-ae55-937e5238578f",
   "metadata": {},
   "outputs": [
    {
     "data": {
      "text/plain": [
       "array([[ 0,  1,  2,  3,  4,  5,  6,  7,  8,  9, 10, 11, 12, 13, 14, 15,\n",
       "        16, 17, 18, 19, 20, 21, 22, 23, 24, 25, 26, 27, 28, 29, 30, 31,\n",
       "        32],\n",
       "       [33, 34, 35, 36, 37, 38, 39, 40, 41, 42, 43, 44, 45, 46, 47, 48,\n",
       "        49, 50, 51, 52, 53, 54, 55, 56, 57, 58, 59, 60, 61, 62, 63, 64,\n",
       "        65],\n",
       "       [66, 67, 68, 69, 70, 71, 72, 73, 74, 75, 76, 77, 78, 79, 80, 81,\n",
       "        82, 83, 84, 85, 86, 87, 88, 89, 90, 91, 92, 93, 94, 95, 96, 97,\n",
       "        98]])"
      ]
     },
     "execution_count": 33,
     "metadata": {},
     "output_type": "execute_result"
    }
   ],
   "source": [
    "arr.reshape(3,33)"
   ]
  },
  {
   "cell_type": "code",
   "execution_count": 35,
   "id": "0637b18a-8e29-4110-b639-b5f62d808357",
   "metadata": {},
   "outputs": [
    {
     "data": {
      "text/plain": [
       "array([ 0,  1,  2,  3,  4,  5,  6,  7,  8,  9, 10, 11, 12, 13, 14, 15, 16,\n",
       "       17, 18, 19, 20, 21, 22, 23, 24, 25, 26, 27, 28, 29, 30, 31, 32, 33,\n",
       "       34, 35, 36, 37, 38, 39, 40, 41, 42, 43, 44, 45, 46, 47, 48, 49, 50,\n",
       "       51, 52, 53, 54, 55, 56, 57, 58, 59, 60, 61, 62, 63, 64, 65, 66, 67,\n",
       "       68, 69, 70, 71, 72, 73, 74, 75, 76, 77, 78, 79, 80, 81, 82, 83, 84,\n",
       "       85, 86, 87, 88, 89, 90, 91, 92, 93, 94, 95, 96, 97, 98])"
      ]
     },
     "execution_count": 35,
     "metadata": {},
     "output_type": "execute_result"
    }
   ],
   "source": [
    "arr.ravel()"
   ]
  },
  {
   "cell_type": "code",
   "execution_count": 36,
   "id": "21d484e4-8e66-432b-bce5-bc38815a05c5",
   "metadata": {},
   "outputs": [
    {
     "data": {
      "text/plain": [
       "(99,)"
      ]
     },
     "execution_count": 36,
     "metadata": {},
     "output_type": "execute_result"
    }
   ],
   "source": [
    "arr.shape"
   ]
  },
  {
   "cell_type": "markdown",
   "id": "001c7021-2fa0-4411-8a6a-eb3627848090",
   "metadata": {},
   "source": [
    "**Array axis**"
   ]
  },
  {
   "cell_type": "code",
   "execution_count": 37,
   "id": "ca25e035-1d33-4d18-9c62-d9f35dcb5606",
   "metadata": {},
   "outputs": [],
   "source": [
    "x = [[1,23,3], [3,5,6],[3,67,97]]"
   ]
  },
  {
   "cell_type": "code",
   "execution_count": 39,
   "id": "ec7ef6bb-13e5-4539-97bb-6ac9c35fd736",
   "metadata": {},
   "outputs": [],
   "source": [
    "ar = np.array(x)"
   ]
  },
  {
   "cell_type": "code",
   "execution_count": 40,
   "id": "1da267a2-f946-480e-8879-395d24876e04",
   "metadata": {},
   "outputs": [
    {
     "data": {
      "text/plain": [
       "array([[ 1, 23,  3],\n",
       "       [ 3,  5,  6],\n",
       "       [ 3, 67, 97]])"
      ]
     },
     "execution_count": 40,
     "metadata": {},
     "output_type": "execute_result"
    }
   ],
   "source": [
    "ar"
   ]
  },
  {
   "cell_type": "code",
   "execution_count": 92,
   "id": "e3f21f13-4942-4a32-8757-b51d2f13553a",
   "metadata": {},
   "outputs": [],
   "source": [
    "#0 --> col #1 --> row"
   ]
  },
  {
   "cell_type": "code",
   "execution_count": 41,
   "id": "09a3b645-2b62-4ca1-a153-405ece40b76e",
   "metadata": {},
   "outputs": [
    {
     "data": {
      "text/plain": [
       "array([  7,  95, 106])"
      ]
     },
     "execution_count": 41,
     "metadata": {},
     "output_type": "execute_result"
    }
   ],
   "source": [
    "ar.sum(axis=0)   #sum column-wise "
   ]
  },
  {
   "cell_type": "code",
   "execution_count": 42,
   "id": "9bc6294b-0827-4b2b-a396-5530c3ea8ac7",
   "metadata": {},
   "outputs": [
    {
     "data": {
      "text/plain": [
       "array([ 27,  14, 167])"
      ]
     },
     "execution_count": 42,
     "metadata": {},
     "output_type": "execute_result"
    }
   ],
   "source": [
    "ar.sum(axis=1)   #sum row-wise"
   ]
  },
  {
   "cell_type": "code",
   "execution_count": 43,
   "id": "2d4f610c-e02a-4fc5-bb60-f716c348d8b2",
   "metadata": {},
   "outputs": [
    {
     "data": {
      "text/plain": [
       "array([[ 1,  3,  3],\n",
       "       [23,  5, 67],\n",
       "       [ 3,  6, 97]])"
      ]
     },
     "execution_count": 43,
     "metadata": {},
     "output_type": "execute_result"
    }
   ],
   "source": [
    "ar.T"
   ]
  },
  {
   "cell_type": "code",
   "execution_count": 44,
   "id": "fe0d1129-aff1-49d6-a937-cc41d864e59f",
   "metadata": {},
   "outputs": [
    {
     "data": {
      "text/plain": [
       "<numpy.flatiter at 0x1eca05b0f20>"
      ]
     },
     "execution_count": 44,
     "metadata": {},
     "output_type": "execute_result"
    }
   ],
   "source": [
    "ar.flat"
   ]
  },
  {
   "cell_type": "code",
   "execution_count": 45,
   "id": "cf2ce07c-2e58-4acc-b12e-8d2b0cf41ad7",
   "metadata": {},
   "outputs": [
    {
     "name": "stdout",
     "output_type": "stream",
     "text": [
      "1\n",
      "23\n",
      "3\n",
      "3\n",
      "5\n",
      "6\n",
      "3\n",
      "67\n",
      "97\n"
     ]
    }
   ],
   "source": [
    "for item in ar.flat:\n",
    "    print(item)"
   ]
  },
  {
   "cell_type": "code",
   "execution_count": 46,
   "id": "25b9a8b1-1c18-46f1-b26f-1c2250d25c6f",
   "metadata": {},
   "outputs": [
    {
     "data": {
      "text/plain": [
       "2"
      ]
     },
     "execution_count": 46,
     "metadata": {},
     "output_type": "execute_result"
    }
   ],
   "source": [
    "ar.ndim  #tells about the number of dimension"
   ]
  },
  {
   "cell_type": "code",
   "execution_count": 47,
   "id": "5b0efbaf-c53f-4f53-aff4-4beb2f344037",
   "metadata": {},
   "outputs": [
    {
     "data": {
      "text/plain": [
       "9"
      ]
     },
     "execution_count": 47,
     "metadata": {},
     "output_type": "execute_result"
    }
   ],
   "source": [
    "ar.size"
   ]
  },
  {
   "cell_type": "code",
   "execution_count": 48,
   "id": "c65c9135-4250-455f-b146-98c8383c9679",
   "metadata": {},
   "outputs": [
    {
     "data": {
      "text/plain": [
       "72"
      ]
     },
     "execution_count": 48,
     "metadata": {},
     "output_type": "execute_result"
    }
   ],
   "source": [
    "ar.nbytes  #tells about total bytes consumed"
   ]
  },
  {
   "cell_type": "code",
   "execution_count": 49,
   "id": "bab9087a-1a0b-4acc-a0ae-84b90a66de15",
   "metadata": {},
   "outputs": [],
   "source": [
    "one = np.array([1,3,4,56,7,234])"
   ]
  },
  {
   "cell_type": "code",
   "execution_count": 50,
   "id": "d6c6bfdc-5f58-40cd-a0c8-1bf70f1427f5",
   "metadata": {},
   "outputs": [
    {
     "data": {
      "text/plain": [
       "np.int64(5)"
      ]
     },
     "execution_count": 50,
     "metadata": {},
     "output_type": "execute_result"
    }
   ],
   "source": [
    "one.argmax()   #gives the index value of max valued number"
   ]
  },
  {
   "cell_type": "code",
   "execution_count": 51,
   "id": "e7e2bfe1-8bd1-4fd2-8053-d93f447d67e7",
   "metadata": {},
   "outputs": [
    {
     "data": {
      "text/plain": [
       "np.int64(0)"
      ]
     },
     "execution_count": 51,
     "metadata": {},
     "output_type": "execute_result"
    }
   ],
   "source": [
    "one.argmin()    #gives the index value of min valued number"
   ]
  },
  {
   "cell_type": "code",
   "execution_count": 52,
   "id": "d1a46b82-1191-49fd-9a18-f0b936b57e91",
   "metadata": {},
   "outputs": [
    {
     "data": {
      "text/plain": [
       "array([0, 1, 2, 4, 3, 5])"
      ]
     },
     "execution_count": 52,
     "metadata": {},
     "output_type": "execute_result"
    }
   ],
   "source": [
    "one.argsort()   #gives the sorted manner of index values in the ascending order"
   ]
  },
  {
   "cell_type": "code",
   "execution_count": 53,
   "id": "196e0479-fdf1-48e5-807b-b29f9090cabf",
   "metadata": {},
   "outputs": [
    {
     "data": {
      "text/plain": [
       "array([[ 1, 23,  3],\n",
       "       [ 3,  5,  6],\n",
       "       [ 3, 67, 97]])"
      ]
     },
     "execution_count": 53,
     "metadata": {},
     "output_type": "execute_result"
    }
   ],
   "source": [
    "ar"
   ]
  },
  {
   "cell_type": "code",
   "execution_count": 56,
   "id": "5f5f9c58-9da6-440c-b347-67632515ee01",
   "metadata": {},
   "outputs": [
    {
     "data": {
      "text/plain": [
       "np.int64(0)"
      ]
     },
     "execution_count": 56,
     "metadata": {},
     "output_type": "execute_result"
    }
   ],
   "source": [
    "ar.argmin()"
   ]
  },
  {
   "cell_type": "code",
   "execution_count": 57,
   "id": "9673587b-d1c7-4586-94b3-e7a2eff6461c",
   "metadata": {},
   "outputs": [
    {
     "data": {
      "text/plain": [
       "np.int64(8)"
      ]
     },
     "execution_count": 57,
     "metadata": {},
     "output_type": "execute_result"
    }
   ],
   "source": [
    "ar.argmax()"
   ]
  },
  {
   "cell_type": "code",
   "execution_count": 58,
   "id": "9173efeb-20a1-4829-a8f8-256a5053f28d",
   "metadata": {},
   "outputs": [
    {
     "data": {
      "text/plain": [
       "array([1, 2, 2])"
      ]
     },
     "execution_count": 58,
     "metadata": {},
     "output_type": "execute_result"
    }
   ],
   "source": [
    "ar.argmax(axis=0)"
   ]
  },
  {
   "cell_type": "code",
   "execution_count": 59,
   "id": "c182ff9c-c9f2-49ad-8257-4af40ae1248d",
   "metadata": {},
   "outputs": [
    {
     "data": {
      "text/plain": [
       "array([1, 2, 2])"
      ]
     },
     "execution_count": 59,
     "metadata": {},
     "output_type": "execute_result"
    }
   ],
   "source": [
    "ar.argmax(axis=1)"
   ]
  },
  {
   "cell_type": "code",
   "execution_count": 60,
   "id": "7ba668ee-3886-4496-9e29-1e9d8f0c9493",
   "metadata": {},
   "outputs": [
    {
     "data": {
      "text/plain": [
       "array([[0, 1, 0],\n",
       "       [1, 0, 1],\n",
       "       [2, 2, 2]])"
      ]
     },
     "execution_count": 60,
     "metadata": {},
     "output_type": "execute_result"
    }
   ],
   "source": [
    "ar.argsort(axis=0)"
   ]
  },
  {
   "cell_type": "code",
   "execution_count": 61,
   "id": "ae348d12-5cca-4386-b44d-b722b55390b9",
   "metadata": {},
   "outputs": [
    {
     "data": {
      "text/plain": [
       "array([[0, 2, 1],\n",
       "       [0, 1, 2],\n",
       "       [0, 1, 2]])"
      ]
     },
     "execution_count": 61,
     "metadata": {},
     "output_type": "execute_result"
    }
   ],
   "source": [
    "ar.argsort(axis=1)"
   ]
  },
  {
   "cell_type": "code",
   "execution_count": 62,
   "id": "01b12336-caf3-4294-a402-5e40acafe36e",
   "metadata": {},
   "outputs": [
    {
     "data": {
      "text/plain": [
       "array([ 1, 23,  3,  3,  5,  6,  3, 67, 97])"
      ]
     },
     "execution_count": 62,
     "metadata": {},
     "output_type": "execute_result"
    }
   ],
   "source": [
    "ar.ravel()"
   ]
  },
  {
   "cell_type": "code",
   "execution_count": 63,
   "id": "9582cb70-44b2-4238-b2c6-6dd8d3a7fcae",
   "metadata": {},
   "outputs": [],
   "source": [
    "ar2 = np.array([[5, 2, 1],\n",
    "       [2, 1, 2],\n",
    "       [8, 1, 2]])"
   ]
  },
  {
   "cell_type": "code",
   "execution_count": 64,
   "id": "ea0dfe4e-daf6-437f-9010-a7c009fab434",
   "metadata": {},
   "outputs": [
    {
     "data": {
      "text/plain": [
       "array([[ 6, 25,  4],\n",
       "       [ 5,  6,  8],\n",
       "       [11, 68, 99]])"
      ]
     },
     "execution_count": 64,
     "metadata": {},
     "output_type": "execute_result"
    }
   ],
   "source": [
    "ar +ar2"
   ]
  },
  {
   "cell_type": "code",
   "execution_count": 65,
   "id": "b2ddde87-58c9-455c-ba7c-26b78530cdf8",
   "metadata": {},
   "outputs": [
    {
     "data": {
      "text/plain": [
       "array([[  5,  46,   3],\n",
       "       [  6,   5,  12],\n",
       "       [ 24,  67, 194]])"
      ]
     },
     "execution_count": 65,
     "metadata": {},
     "output_type": "execute_result"
    }
   ],
   "source": [
    "ar *ar2"
   ]
  },
  {
   "cell_type": "code",
   "execution_count": 66,
   "id": "4af9d60a-797a-4240-912a-ada86f9f79c1",
   "metadata": {},
   "outputs": [
    {
     "data": {
      "text/plain": [
       "array([[1.        , 4.79583152, 1.73205081],\n",
       "       [1.73205081, 2.23606798, 2.44948974],\n",
       "       [1.73205081, 8.18535277, 9.8488578 ]])"
      ]
     },
     "execution_count": 66,
     "metadata": {},
     "output_type": "execute_result"
    }
   ],
   "source": [
    "np.sqrt(ar)"
   ]
  },
  {
   "cell_type": "code",
   "execution_count": 67,
   "id": "ce0dcb3f-4b68-4520-9b8e-7a80280614ed",
   "metadata": {},
   "outputs": [
    {
     "data": {
      "text/plain": [
       "np.int64(208)"
      ]
     },
     "execution_count": 67,
     "metadata": {},
     "output_type": "execute_result"
    }
   ],
   "source": [
    "ar.sum()"
   ]
  },
  {
   "cell_type": "code",
   "execution_count": 68,
   "id": "058793e9-22ef-4d61-ad6e-3fada8f101a5",
   "metadata": {},
   "outputs": [
    {
     "data": {
      "text/plain": [
       "np.int64(97)"
      ]
     },
     "execution_count": 68,
     "metadata": {},
     "output_type": "execute_result"
    }
   ],
   "source": [
    "ar.max()"
   ]
  },
  {
   "cell_type": "code",
   "execution_count": 69,
   "id": "9732fddc-01fd-409e-88d8-aaa6dfb46c1a",
   "metadata": {},
   "outputs": [
    {
     "data": {
      "text/plain": [
       "array([[ 1, 23,  3],\n",
       "       [ 3,  5,  6],\n",
       "       [ 3, 67, 97]])"
      ]
     },
     "execution_count": 69,
     "metadata": {},
     "output_type": "execute_result"
    }
   ],
   "source": [
    "ar"
   ]
  },
  {
   "cell_type": "code",
   "execution_count": 70,
   "id": "01be442c-37ea-4485-91a8-a747aff18cfb",
   "metadata": {},
   "outputs": [
    {
     "data": {
      "text/plain": [
       "(array([0, 1, 2, 2]), array([1, 2, 1, 2]))"
      ]
     },
     "execution_count": 70,
     "metadata": {},
     "output_type": "execute_result"
    }
   ],
   "source": [
    "np.where(ar>5)"
   ]
  },
  {
   "cell_type": "code",
   "execution_count": 71,
   "id": "358ba692-8a07-4cc4-8397-470bd702c331",
   "metadata": {},
   "outputs": [
    {
     "data": {
      "text/plain": [
       "9"
      ]
     },
     "execution_count": 71,
     "metadata": {},
     "output_type": "execute_result"
    }
   ],
   "source": [
    "np.count_nonzero(ar)"
   ]
  },
  {
   "cell_type": "code",
   "execution_count": 72,
   "id": "a719b48e-18f1-4023-ad42-ba05efb0e325",
   "metadata": {},
   "outputs": [
    {
     "data": {
      "text/plain": [
       "(array([0, 0, 0, 1, 1, 1, 2, 2, 2]), array([0, 1, 2, 0, 1, 2, 0, 1, 2]))"
      ]
     },
     "execution_count": 72,
     "metadata": {},
     "output_type": "execute_result"
    }
   ],
   "source": [
    "np.nonzero(ar)"
   ]
  },
  {
   "cell_type": "code",
   "execution_count": 73,
   "id": "d63888e4-8364-4755-81aa-45ba3e64166a",
   "metadata": {},
   "outputs": [],
   "source": [
    "import sys"
   ]
  },
  {
   "cell_type": "code",
   "execution_count": 74,
   "id": "0b0ce962-c5bd-4c39-b63e-96fe86b63ed3",
   "metadata": {},
   "outputs": [],
   "source": [
    "py_arr = [0,4,7,3]"
   ]
  },
  {
   "cell_type": "code",
   "execution_count": 75,
   "id": "bad7d5f9-23ad-4fc8-b10a-8bccac802b9c",
   "metadata": {},
   "outputs": [],
   "source": [
    "np_arr = np.array(py_arr)"
   ]
  },
  {
   "cell_type": "code",
   "execution_count": 76,
   "id": "3177a041-7f4f-4686-a2f8-9220d7255872",
   "metadata": {},
   "outputs": [
    {
     "data": {
      "text/plain": [
       "112"
      ]
     },
     "execution_count": 76,
     "metadata": {},
     "output_type": "execute_result"
    }
   ],
   "source": [
    "sys.getsizeof(1) * len(py_arr)"
   ]
  },
  {
   "cell_type": "code",
   "execution_count": 78,
   "id": "7a8f862c-2b88-4387-886b-6a97b7b02248",
   "metadata": {},
   "outputs": [
    {
     "data": {
      "text/plain": [
       "32"
      ]
     },
     "execution_count": 78,
     "metadata": {},
     "output_type": "execute_result"
    }
   ],
   "source": [
    "np_arr.itemsize * np_arr.size"
   ]
  },
  {
   "cell_type": "code",
   "execution_count": 80,
   "id": "3b0f673d-3920-406b-8b5a-5505bb4c0ec6",
   "metadata": {},
   "outputs": [
    {
     "data": {
      "text/plain": [
       "[0, 4, 7, 3]"
      ]
     },
     "execution_count": 80,
     "metadata": {},
     "output_type": "execute_result"
    }
   ],
   "source": [
    "np_arr.tolist()"
   ]
  },
  {
   "cell_type": "markdown",
   "id": "c3e5b6c4-cb6e-4e4d-ba42-01fee6ee0c66",
   "metadata": {},
   "source": [
    "**Changing Datatypes**"
   ]
  },
  {
   "cell_type": "code",
   "execution_count": 82,
   "id": "913073c1-ab75-4739-bf0d-348309874405",
   "metadata": {},
   "outputs": [],
   "source": [
    "a3 = np.arange(8).reshape(2,2,2)"
   ]
  },
  {
   "cell_type": "code",
   "execution_count": 83,
   "id": "186db5ce-6b23-4f81-af65-f999bb395c92",
   "metadata": {},
   "outputs": [
    {
     "data": {
      "text/plain": [
       "array([[[0, 1],\n",
       "        [2, 3]],\n",
       "\n",
       "       [[4, 5],\n",
       "        [6, 7]]])"
      ]
     },
     "execution_count": 83,
     "metadata": {},
     "output_type": "execute_result"
    }
   ],
   "source": [
    "a3"
   ]
  },
  {
   "cell_type": "code",
   "execution_count": 84,
   "id": "13256b59-9a53-4f1c-abda-07578e1fc5c6",
   "metadata": {},
   "outputs": [
    {
     "data": {
      "text/plain": [
       "dtype('int64')"
      ]
     },
     "execution_count": 84,
     "metadata": {},
     "output_type": "execute_result"
    }
   ],
   "source": [
    "a3.dtype"
   ]
  },
  {
   "cell_type": "code",
   "execution_count": 85,
   "id": "4ad0bf59-c074-4ec8-bb2b-44b02029fcdc",
   "metadata": {},
   "outputs": [
    {
     "data": {
      "text/plain": [
       "array([[[0, 1],\n",
       "        [2, 3]],\n",
       "\n",
       "       [[4, 5],\n",
       "        [6, 7]]], dtype=int32)"
      ]
     },
     "execution_count": 85,
     "metadata": {},
     "output_type": "execute_result"
    }
   ],
   "source": [
    "a3.astype(np.int32)    #reduced memory size"
   ]
  },
  {
   "cell_type": "markdown",
   "id": "e05ce814-db51-41dd-b441-214f1d4a30cf",
   "metadata": {},
   "source": [
    "**Array Ops -- Scalar Ops**"
   ]
  },
  {
   "cell_type": "code",
   "execution_count": 86,
   "id": "4735d6a6-6ede-435c-89ec-6777e71c45e8",
   "metadata": {},
   "outputs": [
    {
     "data": {
      "text/plain": [
       "array([[  2,  46,   6],\n",
       "       [  6,  10,  12],\n",
       "       [  6, 134, 194]])"
      ]
     },
     "execution_count": 86,
     "metadata": {},
     "output_type": "execute_result"
    }
   ],
   "source": [
    "ar*2   #all the arithmetic operators"
   ]
  },
  {
   "cell_type": "code",
   "execution_count": 87,
   "id": "d7cb22e4-1771-4693-a57a-627301a273ec",
   "metadata": {},
   "outputs": [
    {
     "data": {
      "text/plain": [
       "array([[False,  True, False],\n",
       "       [False, False, False],\n",
       "       [False,  True,  True]])"
      ]
     },
     "execution_count": 87,
     "metadata": {},
     "output_type": "execute_result"
    }
   ],
   "source": [
    "ar>12   #all the relational operators"
   ]
  },
  {
   "cell_type": "markdown",
   "id": "8ed80aa3-dab3-4f90-972e-ef73af843019",
   "metadata": {},
   "source": [
    "**Array ops -- Vector ops**"
   ]
  },
  {
   "cell_type": "code",
   "execution_count": 88,
   "id": "54148f38-cf90-484f-b143-d19a9ed13b4d",
   "metadata": {},
   "outputs": [
    {
     "ename": "ValueError",
     "evalue": "operands could not be broadcast together with shapes (3,3) (2,2,2) ",
     "output_type": "error",
     "traceback": [
      "\u001b[1;31m---------------------------------------------------------------------------\u001b[0m",
      "\u001b[1;31mValueError\u001b[0m                                Traceback (most recent call last)",
      "Cell \u001b[1;32mIn[88], line 1\u001b[0m\n\u001b[1;32m----> 1\u001b[0m \u001b[43mar\u001b[49m\u001b[43m \u001b[49m\u001b[38;5;241;43m+\u001b[39;49m\u001b[43m \u001b[49m\u001b[43ma3\u001b[49m\n",
      "\u001b[1;31mValueError\u001b[0m: operands could not be broadcast together with shapes (3,3) (2,2,2) "
     ]
    }
   ],
   "source": [
    "ar + a3   #ops between two different matrices "
   ]
  },
  {
   "cell_type": "markdown",
   "id": "253f2e03-29ee-4b75-92d6-d91dc35ed2b4",
   "metadata": {},
   "source": [
    "**Array Functions**"
   ]
  },
  {
   "cell_type": "code",
   "execution_count": 91,
   "id": "0c36ffae-7ec9-412f-891b-6bb4808c87ed",
   "metadata": {},
   "outputs": [
    {
     "data": {
      "text/plain": [
       "array([[ 100, 2300,  300],\n",
       "       [ 300,  500,  600],\n",
       "       [ 300, 6700, 9700]])"
      ]
     },
     "execution_count": 91,
     "metadata": {},
     "output_type": "execute_result"
    }
   ],
   "source": [
    "p = np.random.random((3,3))\n",
    "p = np.round(ar*100)\n",
    "p"
   ]
  },
  {
   "cell_type": "code",
   "execution_count": 95,
   "id": "1376b906-76a9-40b7-9661-bffe7d97b072",
   "metadata": {},
   "outputs": [
    {
     "data": {
      "text/plain": [
       "np.float64(2311.1111111111113)"
      ]
     },
     "execution_count": 95,
     "metadata": {},
     "output_type": "execute_result"
    }
   ],
   "source": [
    "#mean / median / std / var\n",
    "np.mean(p)\n"
   ]
  },
  {
   "cell_type": "code",
   "execution_count": 96,
   "id": "bc2f2269-9777-4877-9cc5-22e9310f3fa4",
   "metadata": {},
   "outputs": [
    {
     "data": {
      "text/plain": [
       "array([ 233.33333333, 3166.66666667, 3533.33333333])"
      ]
     },
     "execution_count": 96,
     "metadata": {},
     "output_type": "execute_result"
    }
   ],
   "source": [
    "np.mean(p, axis =0)"
   ]
  },
  {
   "cell_type": "markdown",
   "id": "be28cc97-5a6a-464f-b31a-a17e2518112b",
   "metadata": {},
   "source": [
    "**Dot product**"
   ]
  },
  {
   "cell_type": "code",
   "execution_count": 101,
   "id": "9e1006d2-24af-4415-954b-29fc63e1bd80",
   "metadata": {},
   "outputs": [
    {
     "data": {
      "text/plain": [
       "array([[114, 120, 126],\n",
       "       [378, 400, 422],\n",
       "       [642, 680, 718]])"
      ]
     },
     "execution_count": 101,
     "metadata": {},
     "output_type": "execute_result"
    }
   ],
   "source": [
    "q = np.arange(12).reshape(3,4)\n",
    "r = np.arange(12, 24).reshape(4,3)\n",
    "\n",
    "np.dot(q, r)"
   ]
  },
  {
   "cell_type": "markdown",
   "id": "2dabd7a6-116d-4187-834b-80ce031266bd",
   "metadata": {},
   "source": [
    "**log and exponents**"
   ]
  },
  {
   "cell_type": "code",
   "execution_count": 103,
   "id": "46bfb12f-1398-4148-a4a0-a546734e12aa",
   "metadata": {},
   "outputs": [
    {
     "name": "stderr",
     "output_type": "stream",
     "text": [
      "C:\\Users\\Dell\\AppData\\Local\\Temp\\ipykernel_14384\\133699003.py:2: RuntimeWarning: divide by zero encountered in log\n",
      "  np.log(q)\n"
     ]
    },
    {
     "data": {
      "text/plain": [
       "array([[      -inf, 0.        , 0.69314718, 1.09861229],\n",
       "       [1.38629436, 1.60943791, 1.79175947, 1.94591015],\n",
       "       [2.07944154, 2.19722458, 2.30258509, 2.39789527]])"
      ]
     },
     "execution_count": 103,
     "metadata": {},
     "output_type": "execute_result"
    }
   ],
   "source": [
    "np.log(q)"
   ]
  },
  {
   "cell_type": "code",
   "execution_count": 104,
   "id": "dd623e03-b7a3-4651-8094-cd6a63c0fc21",
   "metadata": {},
   "outputs": [
    {
     "data": {
      "text/plain": [
       "array([[1.62754791e+05, 4.42413392e+05, 1.20260428e+06],\n",
       "       [3.26901737e+06, 8.88611052e+06, 2.41549528e+07],\n",
       "       [6.56599691e+07, 1.78482301e+08, 4.85165195e+08],\n",
       "       [1.31881573e+09, 3.58491285e+09, 9.74480345e+09]])"
      ]
     },
     "execution_count": 104,
     "metadata": {},
     "output_type": "execute_result"
    }
   ],
   "source": [
    "np.exp(r)"
   ]
  },
  {
   "cell_type": "markdown",
   "id": "3faf8b03-d969-46fc-a7a7-1e1352b7164c",
   "metadata": {},
   "source": [
    "**Round / floor / ceil**"
   ]
  },
  {
   "cell_type": "code",
   "execution_count": 105,
   "id": "4e9a9641-0bbd-4e9e-83b5-a9c1dec304f4",
   "metadata": {},
   "outputs": [
    {
     "data": {
      "text/plain": [
       "array([[86., 62., 86.],\n",
       "       [20., 75., 53.]])"
      ]
     },
     "execution_count": 105,
     "metadata": {},
     "output_type": "execute_result"
    }
   ],
   "source": [
    "np.round(np.random.random((2,3))*100)  #rounding off to the nearest integer"
   ]
  },
  {
   "cell_type": "code",
   "execution_count": 106,
   "id": "4d7a5571-6fda-4a8f-96b7-627d2ed4b349",
   "metadata": {},
   "outputs": [
    {
     "data": {
      "text/plain": [
       "array([[55., 70., 35.],\n",
       "       [15., 65., 34.]])"
      ]
     },
     "execution_count": 106,
     "metadata": {},
     "output_type": "execute_result"
    }
   ],
   "source": [
    "np.floor(np.random.random((2,3))*100)   #rounding off to the nearest integer backwards"
   ]
  },
  {
   "cell_type": "code",
   "execution_count": 107,
   "id": "6b7309a1-a6e3-4548-a450-323cf621fd5c",
   "metadata": {},
   "outputs": [
    {
     "data": {
      "text/plain": [
       "array([[79., 16., 41.],\n",
       "       [42., 88., 29.]])"
      ]
     },
     "execution_count": 107,
     "metadata": {},
     "output_type": "execute_result"
    }
   ],
   "source": [
    "np.ceil(np.random.random((2,3))*100)    #rounding off to the nearest integer frontwards"
   ]
  },
  {
   "cell_type": "markdown",
   "id": "a5e2735e-fe48-4568-bd4b-b4bb8666175d",
   "metadata": {},
   "source": [
    "**Indexing and Slicing**"
   ]
  },
  {
   "cell_type": "code",
   "execution_count": 112,
   "id": "f0e2fc15-07ce-4b13-8564-dc0221ecd4d5",
   "metadata": {},
   "outputs": [],
   "source": [
    "x = np.arange(10)\n",
    "y = np.arange(12).reshape(3,4)\n",
    "z = np.arange(8).reshape(2,2,2)\n"
   ]
  },
  {
   "cell_type": "code",
   "execution_count": 109,
   "id": "66a5b1e9-87dd-4eef-b4ed-f71a82746802",
   "metadata": {},
   "outputs": [
    {
     "data": {
      "text/plain": [
       "array([0, 1, 2, 3, 4, 5, 6, 7, 8, 9])"
      ]
     },
     "execution_count": 109,
     "metadata": {},
     "output_type": "execute_result"
    }
   ],
   "source": [
    "x"
   ]
  },
  {
   "cell_type": "code",
   "execution_count": 113,
   "id": "63419dcb-f0d4-451e-a3c5-37a84512d7fe",
   "metadata": {},
   "outputs": [
    {
     "data": {
      "text/plain": [
       "array([[ 0,  1,  2,  3],\n",
       "       [ 4,  5,  6,  7],\n",
       "       [ 8,  9, 10, 11]])"
      ]
     },
     "execution_count": 113,
     "metadata": {},
     "output_type": "execute_result"
    }
   ],
   "source": [
    "y"
   ]
  },
  {
   "cell_type": "code",
   "execution_count": 114,
   "id": "98ce7b15-8c9a-4c01-a09f-a6aa025f56ce",
   "metadata": {},
   "outputs": [
    {
     "data": {
      "text/plain": [
       "np.int64(7)"
      ]
     },
     "execution_count": 114,
     "metadata": {},
     "output_type": "execute_result"
    }
   ],
   "source": [
    "y[1,3]"
   ]
  },
  {
   "cell_type": "code",
   "execution_count": 115,
   "id": "394f41da-6967-4a78-9d8d-e26e914980b6",
   "metadata": {},
   "outputs": [
    {
     "data": {
      "text/plain": [
       "array([[[0, 1],\n",
       "        [2, 3]],\n",
       "\n",
       "       [[4, 5],\n",
       "        [6, 7]]])"
      ]
     },
     "execution_count": 115,
     "metadata": {},
     "output_type": "execute_result"
    }
   ],
   "source": [
    "z"
   ]
  },
  {
   "cell_type": "code",
   "execution_count": 116,
   "id": "68ee33b7-1edd-4248-a384-4403429ab3f1",
   "metadata": {},
   "outputs": [
    {
     "data": {
      "text/plain": [
       "np.int64(5)"
      ]
     },
     "execution_count": 116,
     "metadata": {},
     "output_type": "execute_result"
    }
   ],
   "source": [
    "z[1,0,1]"
   ]
  },
  {
   "cell_type": "code",
   "execution_count": 117,
   "id": "7c4e1fdf-ee44-419b-beb5-885ce80ca40f",
   "metadata": {},
   "outputs": [
    {
     "data": {
      "text/plain": [
       "array([0, 1, 2, 3, 4, 5, 6, 7, 8, 9])"
      ]
     },
     "execution_count": 117,
     "metadata": {},
     "output_type": "execute_result"
    }
   ],
   "source": [
    "x"
   ]
  },
  {
   "cell_type": "code",
   "execution_count": 118,
   "id": "be56eef1-1bbb-4d28-849e-ad81027eae69",
   "metadata": {},
   "outputs": [
    {
     "data": {
      "text/plain": [
       "array([2, 3, 4])"
      ]
     },
     "execution_count": 118,
     "metadata": {},
     "output_type": "execute_result"
    }
   ],
   "source": [
    "x[2:5]"
   ]
  },
  {
   "cell_type": "code",
   "execution_count": 119,
   "id": "6ee7b27a-dbad-4438-8429-2c845ae1cb12",
   "metadata": {},
   "outputs": [
    {
     "data": {
      "text/plain": [
       "array([[ 0,  1,  2,  3],\n",
       "       [ 4,  5,  6,  7],\n",
       "       [ 8,  9, 10, 11]])"
      ]
     },
     "execution_count": 119,
     "metadata": {},
     "output_type": "execute_result"
    }
   ],
   "source": [
    "y"
   ]
  },
  {
   "cell_type": "code",
   "execution_count": 120,
   "id": "dae72c02-6ed2-466a-95b5-87a9e667d38c",
   "metadata": {},
   "outputs": [
    {
     "data": {
      "text/plain": [
       "array([0, 1, 2, 3])"
      ]
     },
     "execution_count": 120,
     "metadata": {},
     "output_type": "execute_result"
    }
   ],
   "source": [
    "y[0,:]"
   ]
  },
  {
   "cell_type": "code",
   "execution_count": 121,
   "id": "e897d274-928b-4ac6-8fa7-acccf685a2a3",
   "metadata": {},
   "outputs": [
    {
     "data": {
      "text/plain": [
       "array([ 2,  6, 10])"
      ]
     },
     "execution_count": 121,
     "metadata": {},
     "output_type": "execute_result"
    }
   ],
   "source": [
    "y[:,2]"
   ]
  },
  {
   "cell_type": "code",
   "execution_count": 122,
   "id": "a9483052-04f3-499a-a729-bb84da4a6e2d",
   "metadata": {},
   "outputs": [
    {
     "data": {
      "text/plain": [
       "array([[ 5,  6],\n",
       "       [ 9, 10]])"
      ]
     },
     "execution_count": 122,
     "metadata": {},
     "output_type": "execute_result"
    }
   ],
   "source": [
    "y[1:,1:3]"
   ]
  },
  {
   "cell_type": "code",
   "execution_count": 123,
   "id": "8aa0a932-68eb-4fb5-82a7-16e0a05ea2c6",
   "metadata": {},
   "outputs": [
    {
     "data": {
      "text/plain": [
       "array([[ 0,  3],\n",
       "       [ 8, 11]])"
      ]
     },
     "execution_count": 123,
     "metadata": {},
     "output_type": "execute_result"
    }
   ],
   "source": [
    "y[::2,::3]"
   ]
  },
  {
   "cell_type": "code",
   "execution_count": 124,
   "id": "fde6f00b-d8ac-4f92-a863-4284fbb73e08",
   "metadata": {},
   "outputs": [
    {
     "data": {
      "text/plain": [
       "array([[[0, 1],\n",
       "        [2, 3]],\n",
       "\n",
       "       [[4, 5],\n",
       "        [6, 7]]])"
      ]
     },
     "execution_count": 124,
     "metadata": {},
     "output_type": "execute_result"
    }
   ],
   "source": [
    "z"
   ]
  },
  {
   "cell_type": "code",
   "execution_count": 125,
   "id": "5b906b32-17bc-410a-8b05-607c0ba1c219",
   "metadata": {},
   "outputs": [
    {
     "data": {
      "text/plain": [
       "array([[[ 0,  1,  2],\n",
       "        [ 3,  4,  5],\n",
       "        [ 6,  7,  8]],\n",
       "\n",
       "       [[ 9, 10, 11],\n",
       "        [12, 13, 14],\n",
       "        [15, 16, 17]],\n",
       "\n",
       "       [[18, 19, 20],\n",
       "        [21, 22, 23],\n",
       "        [24, 25, 26]]])"
      ]
     },
     "execution_count": 125,
     "metadata": {},
     "output_type": "execute_result"
    }
   ],
   "source": [
    "z = np.arange(27).reshape(3,3,3)\n",
    "z"
   ]
  },
  {
   "cell_type": "code",
   "execution_count": 126,
   "id": "a3a7dc71-a70c-4e3e-a058-3f71d59ca737",
   "metadata": {},
   "outputs": [
    {
     "data": {
      "text/plain": [
       "array([[ 9, 10, 11],\n",
       "       [12, 13, 14],\n",
       "       [15, 16, 17]])"
      ]
     },
     "execution_count": 126,
     "metadata": {},
     "output_type": "execute_result"
    }
   ],
   "source": [
    "z[1]"
   ]
  },
  {
   "cell_type": "code",
   "execution_count": 127,
   "id": "9df36c02-92a3-44f5-a584-55a3583cf6c5",
   "metadata": {},
   "outputs": [
    {
     "data": {
      "text/plain": [
       "array([[[ 0,  1,  2],\n",
       "        [ 3,  4,  5],\n",
       "        [ 6,  7,  8]],\n",
       "\n",
       "       [[18, 19, 20],\n",
       "        [21, 22, 23],\n",
       "        [24, 25, 26]]])"
      ]
     },
     "execution_count": 127,
     "metadata": {},
     "output_type": "execute_result"
    }
   ],
   "source": [
    "z[::2]"
   ]
  },
  {
   "cell_type": "code",
   "execution_count": 128,
   "id": "c40f5332-9f8f-4b1e-a0fc-0c1a696ec4ec",
   "metadata": {},
   "outputs": [
    {
     "data": {
      "text/plain": [
       "array([3, 4, 5])"
      ]
     },
     "execution_count": 128,
     "metadata": {},
     "output_type": "execute_result"
    }
   ],
   "source": [
    "z[0,1,:]"
   ]
  },
  {
   "cell_type": "code",
   "execution_count": 129,
   "id": "95a71560-8b62-413b-a349-6a1f23be94ff",
   "metadata": {},
   "outputs": [
    {
     "data": {
      "text/plain": [
       "array([10, 13, 16])"
      ]
     },
     "execution_count": 129,
     "metadata": {},
     "output_type": "execute_result"
    }
   ],
   "source": [
    "z[1,:,1]"
   ]
  },
  {
   "cell_type": "code",
   "execution_count": 130,
   "id": "fa5546d0-185c-4563-a1b1-549da5b3088a",
   "metadata": {},
   "outputs": [
    {
     "data": {
      "text/plain": [
       "array([[22, 23],\n",
       "       [25, 26]])"
      ]
     },
     "execution_count": 130,
     "metadata": {},
     "output_type": "execute_result"
    }
   ],
   "source": [
    "z[2,1:,1:]"
   ]
  },
  {
   "cell_type": "code",
   "execution_count": 131,
   "id": "34dde1fa-7062-4268-90eb-506246bd7d80",
   "metadata": {},
   "outputs": [
    {
     "data": {
      "text/plain": [
       "array([[ 0,  2],\n",
       "       [18, 20]])"
      ]
     },
     "execution_count": 131,
     "metadata": {},
     "output_type": "execute_result"
    }
   ],
   "source": [
    "z[::2, 0,::2]"
   ]
  },
  {
   "cell_type": "code",
   "execution_count": 133,
   "id": "64be0fd4-39f2-43be-8444-e42acc9f7ee5",
   "metadata": {},
   "outputs": [
    {
     "name": "stdout",
     "output_type": "stream",
     "text": [
      "0\n",
      "1\n",
      "2\n",
      "3\n",
      "4\n",
      "5\n",
      "6\n",
      "7\n",
      "8\n",
      "9\n",
      "10\n",
      "11\n",
      "12\n",
      "13\n",
      "14\n",
      "15\n",
      "16\n",
      "17\n",
      "18\n",
      "19\n",
      "20\n",
      "21\n",
      "22\n",
      "23\n",
      "24\n",
      "25\n",
      "26\n"
     ]
    }
   ],
   "source": [
    "#iteration\n",
    "\n",
    "for i in np.nditer(z):\n",
    "    print(i)"
   ]
  },
  {
   "cell_type": "markdown",
   "id": "f8f62b7f-41e7-4fc9-a7e5-1a2bb7a230c1",
   "metadata": {},
   "source": [
    "**Stacking -- Horizontal and Vertical**"
   ]
  },
  {
   "cell_type": "code",
   "execution_count": 134,
   "id": "39da610b-f5b9-49bf-8f12-5d8f3d60ea3d",
   "metadata": {},
   "outputs": [],
   "source": [
    "#Horizontal\n",
    "m = np.arange(12).reshape(3,4)\n",
    "n = np.arange(12, 24).reshape(3,4)"
   ]
  },
  {
   "cell_type": "code",
   "execution_count": 135,
   "id": "5790cb31-5a25-4a41-b68d-d4025907a6df",
   "metadata": {},
   "outputs": [
    {
     "data": {
      "text/plain": [
       "array([[ 0,  1,  2,  3, 12, 13, 14, 15],\n",
       "       [ 4,  5,  6,  7, 16, 17, 18, 19],\n",
       "       [ 8,  9, 10, 11, 20, 21, 22, 23]])"
      ]
     },
     "execution_count": 135,
     "metadata": {},
     "output_type": "execute_result"
    }
   ],
   "source": [
    "np.hstack((m,n))"
   ]
  },
  {
   "cell_type": "code",
   "execution_count": 136,
   "id": "222cde93-1c25-4b31-9485-b6df7c678727",
   "metadata": {},
   "outputs": [
    {
     "data": {
      "text/plain": [
       "array([[ 0,  1,  2,  3],\n",
       "       [ 4,  5,  6,  7],\n",
       "       [ 8,  9, 10, 11],\n",
       "       [12, 13, 14, 15],\n",
       "       [16, 17, 18, 19],\n",
       "       [20, 21, 22, 23]])"
      ]
     },
     "execution_count": 136,
     "metadata": {},
     "output_type": "execute_result"
    }
   ],
   "source": [
    "# Vertical\n",
    "np.vstack((m,n))"
   ]
  },
  {
   "cell_type": "markdown",
   "id": "78ceaaf6-ea99-49a6-a066-a60fb517bccb",
   "metadata": {},
   "source": [
    "**Splitting**"
   ]
  },
  {
   "cell_type": "code",
   "execution_count": 137,
   "id": "418e3dfa-dda2-4768-802e-a2d38b971ea7",
   "metadata": {},
   "outputs": [
    {
     "data": {
      "text/plain": [
       "[array([[0, 1],\n",
       "        [4, 5],\n",
       "        [8, 9]]),\n",
       " array([[ 2,  3],\n",
       "        [ 6,  7],\n",
       "        [10, 11]])]"
      ]
     },
     "execution_count": 137,
     "metadata": {},
     "output_type": "execute_result"
    }
   ],
   "source": [
    "#Horiontal\n",
    "np.hsplit(m,2)"
   ]
  },
  {
   "cell_type": "code",
   "execution_count": 138,
   "id": "23b73bc0-69a3-4160-814a-81773240860a",
   "metadata": {},
   "outputs": [
    {
     "data": {
      "text/plain": [
       "[array([[12, 13, 14, 15]]),\n",
       " array([[16, 17, 18, 19]]),\n",
       " array([[20, 21, 22, 23]])]"
      ]
     },
     "execution_count": 138,
     "metadata": {},
     "output_type": "execute_result"
    }
   ],
   "source": [
    "#Vertical \n",
    "np.vsplit(n,3)"
   ]
  },
  {
   "cell_type": "code",
   "execution_count": null,
   "id": "1c83e063-b164-4195-aa6b-26bc619ec108",
   "metadata": {},
   "outputs": [],
   "source": []
  }
 ],
 "metadata": {
  "kernelspec": {
   "display_name": "Python 3 (ipykernel)",
   "language": "python",
   "name": "python3"
  },
  "language_info": {
   "codemirror_mode": {
    "name": "ipython",
    "version": 3
   },
   "file_extension": ".py",
   "mimetype": "text/x-python",
   "name": "python",
   "nbconvert_exporter": "python",
   "pygments_lexer": "ipython3",
   "version": "3.12.4"
  }
 },
 "nbformat": 4,
 "nbformat_minor": 5
}
